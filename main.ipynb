{
 "cells": [
  {
   "cell_type": "code",
   "execution_count": 1,
   "id": "6c532b09-47d2-40aa-a6f4-1adbe0cd1bd9",
   "metadata": {},
   "outputs": [],
   "source": [
    "import pandas as pd"
   ]
  },
  {
   "cell_type": "code",
   "execution_count": 2,
   "id": "efd75d3c-edb1-4f53-8dc0-6845c26f4756",
   "metadata": {},
   "outputs": [],
   "source": [
    "db = pd.read_csv(\"3_db_phone_only.csv\")"
   ]
  },
  {
   "cell_type": "code",
   "execution_count": 3,
   "id": "4a475fa7-8ef4-48d7-9408-9cbbb3071ef6",
   "metadata": {},
   "outputs": [],
   "source": [
    "df1 = pd.read_csv(\"1all_files_email_and_phone.csv\")\n",
    "df2 = pd.read_csv(\"2file2_ONLY_personal_emails.csv\")\n",
    "df3 = pd.read_csv(\"3file3_ONLY_phone.csv\")"
   ]
  },
  {
   "cell_type": "code",
   "execution_count": 6,
   "id": "8d7a34b5-acfb-4698-9d16-f72ad3f14ba0",
   "metadata": {},
   "outputs": [
    {
     "data": {
      "text/plain": [
       "0          False\n",
       "1          False\n",
       "2          False\n",
       "3          False\n",
       "4          False\n",
       "           ...  \n",
       "1048570    False\n",
       "1048571    False\n",
       "1048572    False\n",
       "1048573    False\n",
       "1048574    False\n",
       "Name: linkedinurl, Length: 1048575, dtype: bool"
      ]
     },
     "execution_count": 6,
     "metadata": {},
     "output_type": "execute_result"
    }
   ],
   "source": [
    "# Running file 1 against database 3\n",
    "df1['linkedinurl'].isin(db['linkedinurl'])"
   ]
  },
  {
   "cell_type": "code",
   "execution_count": 7,
   "id": "db5e7236-fdaa-4023-96db-f913aae7078c",
   "metadata": {},
   "outputs": [
    {
     "data": {
      "text/plain": [
       "0         False\n",
       "1         False\n",
       "2         False\n",
       "3         False\n",
       "4         False\n",
       "          ...  \n",
       "643324    False\n",
       "643325    False\n",
       "643326    False\n",
       "643327    False\n",
       "643328    False\n",
       "Name: linkedinurl, Length: 643329, dtype: bool"
      ]
     },
     "execution_count": 7,
     "metadata": {},
     "output_type": "execute_result"
    }
   ],
   "source": [
    "# Running file 2 against database 3\n",
    "df2['linkedinurl'].isin(db['linkedinurl'])"
   ]
  },
  {
   "cell_type": "code",
   "execution_count": 8,
   "id": "238dbc6e-bb82-41f0-adc4-7229d79662be",
   "metadata": {},
   "outputs": [
    {
     "data": {
      "text/plain": [
       "0          False\n",
       "1          False\n",
       "2          False\n",
       "3          False\n",
       "4          False\n",
       "           ...  \n",
       "1048570    False\n",
       "1048571    False\n",
       "1048572    False\n",
       "1048573    False\n",
       "1048574    False\n",
       "Name: linkedinurl, Length: 1048575, dtype: bool"
      ]
     },
     "execution_count": 8,
     "metadata": {},
     "output_type": "execute_result"
    }
   ],
   "source": [
    "# Running file 3 against database 3\n",
    "df3['linkedinurl'].isin(db['linkedinurl'])"
   ]
  },
  {
   "cell_type": "code",
   "execution_count": null,
   "id": "fe22883f-8fa4-4a0a-ad7b-1d1116b67626",
   "metadata": {},
   "outputs": [],
   "source": []
  }
 ],
 "metadata": {
  "kernelspec": {
   "display_name": "Python 3 (ipykernel)",
   "language": "python",
   "name": "python3"
  },
  "language_info": {
   "codemirror_mode": {
    "name": "ipython",
    "version": 3
   },
   "file_extension": ".py",
   "mimetype": "text/x-python",
   "name": "python",
   "nbconvert_exporter": "python",
   "pygments_lexer": "ipython3",
   "version": "3.11.3"
  }
 },
 "nbformat": 4,
 "nbformat_minor": 5
}
